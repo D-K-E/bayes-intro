{
 "cells": [
  {
   "cell_type": "code",
   "execution_count": null,
   "id": "isolated-fever",
   "metadata": {},
   "outputs": [],
   "source": [
    "# import necessary packages\n",
    "\n",
    "from gmodels.pgmodel import PGModel\n",
    "from gmodels.gtypes.edge import Edge, EdgeType\n",
    "from gmodels.factor import Factor\n",
    "from gmodels.randomvariable import NumCatRVariable\n"
   ]
  },
  {
   "cell_type": "code",
   "execution_count": null,
   "id": "encouraging-trial",
   "metadata": {},
   "outputs": [],
   "source": [
    "# Example adapted from Darwiche 2009, p. 140\n",
    "\n",
    "# define data\n",
    "idata = {\n",
    "            \"a\": {\"outcome-values\": [True, False]},\n",
    "            \"b\": {\"outcome-values\": [True, False]},\n",
    "            \"c\": {\"outcome-values\": [True, False]},\n",
    "        }\n",
    "\n",
    "# define nodes\n",
    "a = NumCatRVariable(\n",
    "            node_id=\"a\", input_data=idata[\"a\"], marginal_distribution=lambda x: 0.6 if x else 0.4\n",
    "        )\n",
    "b = NumCatRVariable(\n",
    "    node_id=\"b\", input_data=idata[\"b\"], marginal_distribution=lambda x: 0.5 if x else 0.5\n",
    ")\n",
    "c = NumCatRVariable(\n",
    "    node_id=\"c\", input_data=idata[\"c\"], marginal_distribution=lambda x: 0.5 if x else 0.5\n",
    ")"
   ]
  },
  {
   "cell_type": "code",
   "execution_count": null,
   "id": "native-north",
   "metadata": {},
   "outputs": [],
   "source": [
    "# define edges\n",
    "ab = Edge(\n",
    "    edge_id=\"ab\",\n",
    "    edge_type=EdgeType.UNDIRECTED,\n",
    "    start_node=a,\n",
    "    end_node=b,\n",
    ")\n",
    "bc = Edge(\n",
    "    edge_id=\"bc\",\n",
    "    edge_type=EdgeType.UNDIRECTED,\n",
    "    start_node=b,\n",
    "    end_node=c,\n",
    ")"
   ]
  },
  {
   "cell_type": "code",
   "execution_count": null,
   "id": "younger-march",
   "metadata": {},
   "outputs": [],
   "source": [
    "# define factor functions\n",
    "def phi_ba(scope_product):\n",
    "    \"\"\n",
    "    ss = set(scope_product)\n",
    "    if ss == set([(\"a\", True), (\"b\", True)]):\n",
    "        return 0.9\n",
    "    elif ss == set([(\"a\", True), (\"b\", False)]):\n",
    "        return 0.1\n",
    "    elif ss == set([(\"a\", False), (\"b\", True)]):\n",
    "        return 0.2\n",
    "    elif ss == set([(\"a\", False), (\"b\", False)]):\n",
    "        return 0.8\n",
    "    else:\n",
    "        raise ValueError(\"product error\")\n",
    " \n",
    "def phi_cb(scope_product):\n",
    "    \"\"\n",
    "    ss = set(scope_product)\n",
    "    if ss == set([(\"c\", True), (\"b\", True)]):\n",
    "        return 0.3\n",
    "    elif ss == set([(\"c\", True), (\"b\", False)]):\n",
    "        return 0.5\n",
    "    elif ss == set([(\"c\", False), (\"b\", True)]):\n",
    "        return 0.7\n",
    "    elif ss == set([(\"c\", False), (\"b\", False)]):\n",
    "        return 0.5\n",
    "    else:\n",
    "        raise ValueError(\"product error\")\n",
    " \n",
    "def phi_a(scope_product):\n",
    "    s = set(scope_product)\n",
    "    if s == set([(\"a\", True)]):\n",
    "        return 0.6\n",
    "    elif s == set([(\"a\", False)]):\n",
    "        return 0.4\n",
    "    else:\n",
    "        raise ValueError(\"product error\")\n",
    "        \n",
    "# instantiate factors with factor functions and random variables in scope\n",
    "ba_f = Factor(gid=\"ba\", scope_vars=set([b, a]), factor_fn=phi_ba)\n",
    "cb_f = Factor(gid=\"cb\", scope_vars=set([c, b]), factor_fn=phi_cb)\n",
    "a_f = Factor(gid=\"a\", scope_vars=set([a]), factor_fn=phi_a)\n"
   ]
  },
  {
   "cell_type": "code",
   "execution_count": null,
   "id": "convenient-level",
   "metadata": {},
   "outputs": [],
   "source": [
    "# Instantiate the graph with nodes, edges and factors and do a query with given evidence\n",
    "pgm = PGModel(\n",
    "    gid=\"pgm\",\n",
    "    nodes=set([a, b, c]),\n",
    "    edges=set([ab, bc]),\n",
    "    factors=set([ba_f, cb_f, a_f]),\n",
    ")\n",
    "evidences = set([(\"a\", True)])\n",
    "queries = set([c])\n",
    "product_factor, a = pgm.cond_prod_by_variable_elimination(queries, evidences)\n",
    "print(round( product_factor.phi_normal(set([(\"c\", True)])), 4))\n",
    "# should give you 0.32\n"
   ]
  },
  {
   "cell_type": "code",
   "execution_count": null,
   "id": "russian-defendant",
   "metadata": {},
   "outputs": [],
   "source": []
  }
 ],
 "metadata": {
  "kernelspec": {
   "display_name": "Python 3",
   "language": "python",
   "name": "python3"
  },
  "language_info": {
   "codemirror_mode": {
    "name": "ipython",
    "version": 3
   },
   "file_extension": ".py",
   "mimetype": "text/x-python",
   "name": "python",
   "nbconvert_exporter": "python",
   "pygments_lexer": "ipython3",
   "version": "3.7.10"
  }
 },
 "nbformat": 4,
 "nbformat_minor": 5
}
