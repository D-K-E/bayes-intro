{
 "cells": [
  {
   "cell_type": "code",
   "execution_count": 7,
   "id": "partial-joint",
   "metadata": {},
   "outputs": [],
   "source": [
    "# import necessary packages\n",
    "import math\n",
    "from random import choice\n",
    "from pygmodels.pgm.pgmodel.markov import ConditionalRandomField\n",
    "from pygmodels.graph.gtype.edge import Edge, EdgeType\n",
    "from pygmodels.factor.factor import Factor\n",
    "from pygmodels.pgm.pgmtype.randomvariable import NumCatRVariable"
   ]
  },
  {
   "cell_type": "code",
   "execution_count": 8,
   "id": "otherwise-bennett",
   "metadata": {},
   "outputs": [],
   "source": [
    "# define data and nodes\n",
    "idata = {\"A\": {\"outcome-values\": [True, False]}}\n",
    "\n",
    "# from Koller, Friedman 2009, p. 144-145, example 4.20\n",
    "X_1 = NumCatRVariable(\n",
    "    node_id=\"X_1\", input_data=idata[\"A\"], marginal_distribution=lambda x: 0.5\n",
    ")\n",
    "X_2 = NumCatRVariable(\n",
    "    node_id=\"X_2\", input_data=idata[\"A\"], marginal_distribution=lambda x: 0.5\n",
    ")\n",
    "X_3 = NumCatRVariable(\n",
    "    node_id=\"X_3\", input_data=idata[\"A\"], marginal_distribution=lambda x: 0.5\n",
    ")\n",
    "Y_1 = NumCatRVariable(\n",
    "    node_id=\"Y_1\", input_data=idata[\"A\"], marginal_distribution=lambda x: 0.5\n",
    ")"
   ]
  },
  {
   "cell_type": "code",
   "execution_count": 9,
   "id": "talented-miniature",
   "metadata": {},
   "outputs": [],
   "source": [
    "# define edges\n",
    "\n",
    "X1_Y1 = Edge(\n",
    "   edge_id=\"X1_Y1\",\n",
    "   edge_type=EdgeType.UNDIRECTED,\n",
    "   start_node=X_1,\n",
    "   end_node=Y_1,\n",
    ")\n",
    "X2_Y1 = Edge(\n",
    "  edge_id=\"X2_Y1\",\n",
    "  edge_type=EdgeType.UNDIRECTED,\n",
    "  start_node=X_2,\n",
    "  end_node=Y_1,\n",
    ")\n",
    "X3_Y1 = Edge(\n",
    "  edge_id=\"X3_Y1\",\n",
    "  edge_type=EdgeType.UNDIRECTED,\n",
    "  start_node=X_3,\n",
    "  end_node=Y_1,\n",
    ")\n"
   ]
  },
  {
   "cell_type": "code",
   "execution_count": 10,
   "id": "surprising-bathroom",
   "metadata": {},
   "outputs": [],
   "source": [
    "# define factor functions\n",
    "\n",
    "def phi_X1_Y1(scope_product):\n",
    "  \"\"\n",
    "  w = 0.5\n",
    "  ss = frozenset(scope_product)\n",
    "  if ss == frozenset([(\"X_1\", True), (\"Y_1\", True)]):\n",
    "      return math.exp(1.0 * w)\n",
    "  else:\n",
    "      return math.exp(0.0)\n",
    "                                                                     \n",
    "def phi_X2_Y1(scope_product):\n",
    "  \"\"\n",
    "  w = 5.0\n",
    "  ss = frozenset(scope_product)\n",
    "  if ss == frozenset([(\"X_2\", True), (\"Y_1\", True)]):\n",
    "      return math.exp(1.0 * w)\n",
    "  else:\n",
    "      return math.exp(0.0)\n",
    "                                                                     \n",
    "def phi_X3_Y1(scope_product):\n",
    "  \"\"\n",
    "  w = 9.4\n",
    "  ss = frozenset(scope_product)\n",
    "  if ss == frozenset([(\"X_3\", True), (\"Y_1\", True)]):\n",
    "      return math.exp(1.0 * w)\n",
    "  else:\n",
    "      return math.exp(0.0)\n",
    "                                                                     \n",
    "def phi_Y1(scope_product):\n",
    "  \"\"\n",
    "  w = 0.6\n",
    "  ss = frozenset(scope_product)\n",
    "  if ss == frozenset([(\"Y_1\", True)]):\n",
    "      return math.exp(1.0 * w)\n",
    "  else:\n",
    "      return math.exp(0.0)"
   ]
  },
  {
   "cell_type": "code",
   "execution_count": 11,
   "id": "drawn-spencer",
   "metadata": {},
   "outputs": [],
   "source": [
    "# instantiate factors with factor functions and implied random variables\n",
    "X1_Y1_f = Factor(\n",
    "    gid=\"x1_y1_f\", scope_vars=set([X_1, Y_1]), factor_fn=phi_X1_Y1\n",
    ")\n",
    "X2_Y1_f = Factor(\n",
    "    gid=\"x2_y1_f\", scope_vars=set([X_2, Y_1]), factor_fn=phi_X2_Y1\n",
    ")\n",
    "X3_Y1_f = Factor(\n",
    "    gid=\"x3_y1_f\", scope_vars=set([X_3, Y_1]), factor_fn=phi_X3_Y1\n",
    ")\n",
    "Y1_f = Factor(gid=\"y1_f\", scope_vars=set([Y_1]), factor_fn=phi_Y1)"
   ]
  },
  {
   "cell_type": "code",
   "execution_count": 12,
   "id": "digital-retrieval",
   "metadata": {},
   "outputs": [
    {
     "name": "stdout",
     "output_type": "stream",
     "text": [
      "True\n"
     ]
    }
   ],
   "source": [
    "# Instantiate conditional random field and make a query\n",
    "crf_koller = ConditionalRandomField(\n",
    "    \"crf\",\n",
    "    observed_vars=set([X_1, X_2, X_3]),\n",
    "    target_vars=set([Y_1]),\n",
    "    edges=set([X1_Y1, X2_Y1, X3_Y1]),\n",
    "    factors=set([X1_Y1_f, X2_Y1_f, X3_Y1_f, Y1_f]),\n",
    ")\n",
    "evidence = set([(\"Y_1\", False)])\n",
    "query_vars = set([X_1, X_2, X_3])\n",
    "query = frozenset(\n",
    "    [\n",
    "        (\"X_1\", choice([False, True])),\n",
    "        (\"X_2\", choice([False, True])),\n",
    "        (\"X_3\", choice([False, True])),\n",
    "    ]\n",
    ")\n",
    "fact, a1 = crf_koller.cond_prod_by_variable_elimination(\n",
    "    queries=query_vars, evidences=evidence\n",
    ")\n",
    "print(fact.phi(query) == 1.0)\n",
    "# True\n",
    "\n"
   ]
  },
  {
   "cell_type": "code",
   "execution_count": null,
   "id": "infectious-import",
   "metadata": {},
   "outputs": [],
   "source": []
  }
 ],
 "metadata": {
  "kernelspec": {
   "display_name": "Python 3 (ipykernel)",
   "language": "python",
   "name": "python3"
  },
  "language_info": {
   "codemirror_mode": {
    "name": "ipython",
    "version": 3
   },
   "file_extension": ".py",
   "mimetype": "text/x-python",
   "name": "python",
   "nbconvert_exporter": "python",
   "pygments_lexer": "ipython3",
   "version": "3.9.18"
  }
 },
 "nbformat": 4,
 "nbformat_minor": 5
}
